{
 "cells": [
  {
   "cell_type": "code",
   "execution_count": 1,
   "id": "b6509330-fc92-459b-85a2-f8ff6f960b48",
   "metadata": {},
   "outputs": [
    {
     "name": "stdout",
     "output_type": "stream",
     "text": [
      "Her nokta çifti arasındaki mesafeler: [2.8284271247461903, 7.810249675906654, 1.4142135623730951, 5.0, 4.242640687119285, 9.219544457292887]\n",
      "Minimum mesafe: 1.4142135623730951\n"
     ]
    }
   ],
   "source": [
    "import math\n",
    "\n",
    "# Öklid mesafesini hesaplayan fonksiyon\n",
    "def euclideanDistance(point1, point2):\n",
    "    return math.sqrt((point2[0] - point1[0])**2 + (point2[1] - point1[1])**2)\n",
    "\n",
    "# Noktaların tanımlanması\n",
    "points = [(1, 2), (3, 4), (6, 8), (0, 1)]\n",
    "\n",
    "# Mesafeleri saklamak için bir liste\n",
    "distances = []\n",
    "\n",
    "# Her nokta çifti arasındaki mesafeyi hesaplama\n",
    "for i in range(len(points)):\n",
    "    for j in range(i + 1, len(points)):  # Aynı noktayı tekrar kontrol etmemek için j=i+1\n",
    "        distance = euclideanDistance(points[i], points[j])\n",
    "        distances.append(distance)\n",
    "\n",
    "# Minimum mesafenin bulunması\n",
    "min_distance = min(distances)\n",
    "\n",
    "# Sonuçların yazdırılması\n",
    "print(\"Her nokta çifti arasındaki mesafeler:\", distances)\n",
    "print(\"Minimum mesafe:\", min_distance)\n"
   ]
  },
  {
   "cell_type": "code",
   "execution_count": null,
   "id": "b682ca18-acc1-4b25-a1be-8ad24358e36f",
   "metadata": {},
   "outputs": [],
   "source": []
  }
 ],
 "metadata": {
  "kernelspec": {
   "display_name": "Python 3 (ipykernel)",
   "language": "python",
   "name": "python3"
  },
  "language_info": {
   "codemirror_mode": {
    "name": "ipython",
    "version": 3
   },
   "file_extension": ".py",
   "mimetype": "text/x-python",
   "name": "python",
   "nbconvert_exporter": "python",
   "pygments_lexer": "ipython3",
   "version": "3.12.3"
  }
 },
 "nbformat": 4,
 "nbformat_minor": 5
}
